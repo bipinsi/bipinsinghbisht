{
 "cells": [
  {
   "cell_type": "markdown",
   "id": "32cf07ec",
   "metadata": {},
   "source": [
    "# Quetion1"
   ]
  },
  {
   "cell_type": "markdown",
   "id": "a0657460",
   "metadata": {},
   "source": [
    "The value of variable \"a\" is initially set to 0, which is the global variable \"a\". The function \"c(a)\" is invoked, passing the current value of \"a\" (which is 0) as an argument. Inside the function \"c(a)\", the value of \"a\" is increased by 2, resulting in 2. The function then returns the value 2. After that, the global variable \"a\" is updated to 2.\n",
    "\n",
    "When the function \"b()\" is called for the second time, the value of variable \"a\" is set again to the updated global variable \"a\" (which is 2). The function \"c(a)\" is invoked, passing the value of \"a\" (which is 2) as an argument. Inside \"c(a)\", the value of \"a\" is incremented by 2, resulting in 4. The function returns the value 4, and the global variable \"a\" is updated to 4.\n",
    "\n",
    "For the third call to \"b()\", the variable \"a\" is set to the current value of the global variable \"a\" (which is 4). The function \"c(a)\" is called, passing the value of \"a\" (which is 4) as an argument. Inside \"c(a)\", the value of \"a\" is incremented by 2, resulting in 6. The function returns the value 6, and the global variable \"a\" is updated to 6.\n",
    "\n",
    "Ultimately, when the value of \"a\" is evaluated, it will display the value of the global variable \"a\", which is 6. Therefore, the output displayed when \"a\" is evaluated is 6.\n"
   ]
  },
  {
   "cell_type": "markdown",
   "id": "baa6105f",
   "metadata": {},
   "source": [
    "# Question 2"
   ]
  },
  {
   "cell_type": "code",
   "execution_count": 2,
   "id": "1dbed164",
   "metadata": {},
   "outputs": [
    {
     "name": "stdout",
     "output_type": "stream",
     "text": [
      "File midterm.py not found.\n",
      "File idterm.py not found.\n"
     ]
    }
   ],
   "source": [
    "def fileLength(filename):\n",
    "    try:\n",
    "        infile = open(filename)\n",
    "        contents = infile.read()\n",
    "        infile.close()\n",
    "        return len(contents)\n",
    "    except FileNotFoundError:\n",
    "        print(f\" File {filename} not found.\")\n",
    "fileLength('midterm.py')\n",
    "fileLength('idterm.py')\n",
    "\n"
   ]
  },
  {
   "cell_type": "markdown",
   "id": "001cb0d9",
   "metadata": {},
   "source": [
    "# Question3"
   ]
  },
  {
   "cell_type": "code",
   "execution_count": 1,
   "id": "ec80b28c",
   "metadata": {},
   "outputs": [
    {
     "name": "stdout",
     "output_type": "stream",
     "text": [
      "['doll', 'firetruck', 'kitten']\n",
      "I am a Kangaroo located at coordinates (0,0)\n",
      "['doll', 'firetruck', 'kitten']\n",
      "I am a Kangaroo located at coordinates (3,0)\n"
     ]
    }
   ],
   "source": [
    "class Marsupial:\n",
    "    def __init__(self):\n",
    "        self.pouch = []\n",
    "\n",
    "    def put_in_pouch(self, item):\n",
    "        self.pouch.append(item)\n",
    "\n",
    "    def pouch_contents(self):\n",
    "        return self.pouch\n",
    "\n",
    "\n",
    "class Kangaroo(Marsupial):\n",
    "    def __init__(self, x, y):\n",
    "        super().__init__()\n",
    "        self.x = x\n",
    "        self.y = y\n",
    "\n",
    "    def jump(self, dx, dy):\n",
    "        self.x += dx\n",
    "        self.y += dy\n",
    "\n",
    "    def __str__(self):\n",
    "        return f\"I am a Kangaroo located at coordinates ({self.x},{self.y})\"\n",
    "\n",
    "\n",
    "# Example usage\n",
    "m = Marsupial()\n",
    "m.put_in_pouch('doll')\n",
    "m.put_in_pouch('firetruck')\n",
    "m.put_in_pouch('kitten')\n",
    "print(m.pouch_contents())\n",
    "# Output: ['doll', 'firetruck', 'kitten']\n",
    "\n",
    "k = Kangaroo(0, 0)\n",
    "print(k)\n",
    "# Output: I am a Kangaroo located at coordinates (0,0)\n",
    "\n",
    "k.put_in_pouch('doll')\n",
    "k.put_in_pouch('firetruck')\n",
    "k.put_in_pouch('kitten')\n",
    "print(k.pouch_contents())\n",
    "# Output: ['doll', 'firetruck', 'kitten']\n",
    "\n",
    "k.jump(1, 0)\n",
    "k.jump(1, 0)\n",
    "k.jump(1, 0)\n",
    "print(k)\n",
    "# Output: I am a Kangaroo located at coordinates (3,0)\n"
   ]
  },
  {
   "cell_type": "markdown",
   "id": "97b46122",
   "metadata": {},
   "source": [
    "# Question 4"
   ]
  },
  {
   "cell_type": "code",
   "execution_count": null,
   "id": "b8180be4",
   "metadata": {},
   "outputs": [],
   "source": [
    "def collatz(x):\n",
    "    print(x)\n",
    "    if x == 1:\n",
    "        return\n",
    "    elif x % 2 == 0:\n",
    "        collatz(x // 2)\n",
    "    else:\n",
    "        collatz(3 * x + 1)\n",
    "collatz(0)\n",
    "collatz(1)\n",
    "collatz(10)\n"
   ]
  },
  {
   "cell_type": "markdown",
   "id": "d878d578",
   "metadata": {},
   "source": [
    "# Question 5"
   ]
  },
  {
   "cell_type": "code",
   "execution_count": 8,
   "id": "5db2d835",
   "metadata": {},
   "outputs": [
    {
     "name": "stdout",
     "output_type": "stream",
     "text": [
      "1111001"
     ]
    }
   ],
   "source": [
    "def binary(n):\n",
    "    if n == 0:\n",
    "        return\n",
    "    binary(n // 2)\n",
    "    print(n % 2, end=\"\")\n",
    "binary(0)\n",
    "binary(1)\n",
    "binary(3)\n",
    "binary(9)\n"
   ]
  },
  {
   "cell_type": "markdown",
   "id": "999fc7c7",
   "metadata": {},
   "source": [
    "# Quetion 6"
   ]
  },
  {
   "cell_type": "code",
   "execution_count": 13,
   "id": "20e8f22f",
   "metadata": {},
   "outputs": [
    {
     "name": "stdout",
     "output_type": "stream",
     "text": [
      "Change_me\n",
      "W3C Mission\n",
      " Principles\n"
     ]
    }
   ],
   "source": [
    "from html.parser import HTMLParser\n",
    "\n",
    "class HeadingParser(HTMLParser):\n",
    "    def __init__(self):\n",
    "        super().__init__()\n",
    "        self.headings = []\n",
    "        self.indentation = 0\n",
    "\n",
    "    def handle_starttag(self, tag, attrs):\n",
    "        if tag.startswith('h') and len(tag) == 2 and tag[1].isdigit():\n",
    "            self.indentation = int(tag[1]) - 1\n",
    "\n",
    "    def handle_endtag(self, tag):\n",
    "        if tag.startswith('h') and len(tag) == 2 and tag[1].isdigit():\n",
    "            self.indentation = 0\n",
    "\n",
    "    def handle_data(self, data):\n",
    "        heading = data.strip()\n",
    "        if heading:\n",
    "            self.headings.append((' ' * self.indentation) + heading)\n",
    "\n",
    "    def print_headings(self):\n",
    "        for heading in self.headings:\n",
    "            print(heading)\n",
    "\n",
    "# Test usage\n",
    "infile = open('w3c.html')\n",
    "content = infile.read()\n",
    "infile.close()\n",
    "\n",
    "hp = HeadingParser()\n",
    "hp.feed(content)\n",
    "hp.print_headings()\n"
   ]
  },
  {
   "cell_type": "markdown",
   "id": "107a0d02",
   "metadata": {},
   "source": [
    "# Question 7"
   ]
  },
  {
   "cell_type": "code",
   "execution_count": 11,
   "id": "3813db34",
   "metadata": {},
   "outputs": [
    {
     "name": "stdout",
     "output_type": "stream",
     "text": [
      "http://reed.cs.depaul.edu/lperkovic/csc242/test1.html\n"
     ]
    }
   ],
   "source": [
    "\n",
    "import requests\n",
    "\n",
    "def webdir(url, depth, indent):\n",
    "    print(' ' * indent + url)\n",
    "    if depth == 0:\n",
    "        return\n",
    "    try:\n",
    "        response = requests.get(url)\n",
    "        if response.status_code == 200:\n",
    "            content = response.text\n",
    "            links = extract_links(content)\n",
    "            for link in links:\n",
    "                webdir(link, depth - 1, indent + 1)\n",
    "    except requests.exceptions.RequestException:\n",
    "        return\n",
    "\n",
    "def extract_links(content):\n",
    "    # Extract links from the content of a web page\n",
    "    # You can use a library like BeautifulSoup for more robust link extraction\n",
    "    # This is a simple example using regular expressions\n",
    "    import re\n",
    "    pattern = r'<a href=\"(.*?)\">'\n",
    "    return re.findall(pattern, content)\n",
    "webdir('http://reed.cs.depaul.edu/lperkovic/csc242/test1.html', 2, 0)\n"
   ]
  },
  {
   "cell_type": "markdown",
   "id": "726889d5",
   "metadata": {},
   "source": [
    "# Question 8"
   ]
  },
  {
   "cell_type": "code",
   "execution_count": 8,
   "id": "16bf0181",
   "metadata": {},
   "outputs": [],
   "source": [
    "import sqlite3\n",
    "\n",
    "# Connect to or create a new SQLite database file\n",
    "conn = sqlite3.connect('my_database.db')\n",
    "\n",
    "# Create a cursor object to execute SQL queries\n",
    "cur = conn.cursor()\n",
    "\n",
    "\n",
    "                )''')\n",
    "cur.execute(\"INSERT INTO Climate_data (City,Country,Season,Temperature,Rainfall) VALUES (?, ?,? ,?,?)\", ('Mumbai','India','Winter',24.8,5.9))\n",
    "cur.execute(\"INSERT INTO Climate_data (City,Country,Season,Temperature,Rainfall) VALUES (?, ?,? ,?,?)\", ('Mumbai','India','Spring',28.4,16.2))\n",
    "cur.execute(\"INSERT INTO Climate_data (City,Country,Season,Temperature,Rainfall) VALUES (?, ?,? ,?,?)\", ('Mumbai','India','Summer',27.9,1549.4))\n",
    "cur.execute(\"INSERT INTO Climate_data (City,Country,Season,Temperature,Rainfall) VALUES (?, ?,? ,?,?)\", ('Mumbai','India','Fall',27.6,346.0))\n",
    "cur.execute(\"INSERT INTO Climate_data (City,Country,Season,Temperature,Rainfall) VALUES (?, ?,? ,?,?)\", ('London','United Kingdom','Winter',4.2,207.7))\n",
    "cur.execute(\"INSERT INTO Climate_data (City,Country,Season,Temperature,Rainfall) VALUES (?, ?,? ,?,?)\", ('London','United Kingdom','Spring',8.3,169.6))\n",
    "cur.execute(\"INSERT INTO Climate_data (City,Country,Season,Temperature,Rainfall) VALUES (?, ?,? ,?,?)\", ('London','United Kingdom','Summer',15.7,157.0))\n",
    "cur.execute(\"INSERT INTO Climate_data (City,Country,Season,Temperature,Rainfall) VALUES (?, ?,? ,?,?)\", ('London','United Kingdom','Fall',10.4,218.5))\n",
    "cur.execute(\"INSERT INTO Climate_data (City,Country,Season,Temperature,Rainfall) VALUES (?, ?,? ,?,?)\", ('Cairo','Egypt','Winter',13.6,16.5))\n",
    "cur.execute(\"INSERT INTO Climate_data (City,Country,Season,Temperature,Rainfall) VALUES (?, ?,? ,?,?)\", ('Cairo','Egypt','Spring',20.7,6.5))\n",
    "cur.execute(\"INSERT INTO Climate_data (City,Country,Season,Temperature,Rainfall) VALUES (?, ?,? ,?,?)\", ('Cairo','Egypt','Summer',27.7,0.1))\n",
    "cur.execute(\"INSERT INTO Climate_data (City,Country,Season,Temperature,Rainfall) VALUES (?, ?,? ,?,?)\", ('Cairo','Egypt','Fall',22.2,4.5))\n",
    "\n",
    "# Commit the changes and close the connection\n",
    "conn.commit()\n",
    "conn.close()"
   ]
  },
  {
   "cell_type": "code",
   "execution_count": 9,
   "id": "c3b9f2dd",
   "metadata": {},
   "outputs": [
    {
     "name": "stdout",
     "output_type": "stream",
     "text": [
      "(a).Temperature Data:\n",
      "24.8\n",
      "28.4\n",
      "27.9\n",
      "27.6\n",
      "4.2\n",
      "8.3\n",
      "15.7\n",
      "10.4\n",
      "13.6\n",
      "20.7\n",
      "27.7\n",
      "22.2\n",
      "24.8\n",
      "28.4\n",
      "27.9\n",
      "27.6\n",
      "4.2\n",
      "8.3\n",
      "15.7\n",
      "10.4\n",
      "13.6\n",
      "20.7\n",
      "27.7\n",
      "22.2\n",
      "(b).Cities:\n",
      "Mumbai\n",
      "London\n",
      "Cairo\n",
      "(c).Records for India:\n",
      "('Mumbai', 'India', 'Winter', 24.8, 5.9)\n",
      "('Mumbai', 'India', 'Spring', 28.4, 16.2)\n",
      "('Mumbai', 'India', 'Summer', 27.9, 1549.4)\n",
      "('Mumbai', 'India', 'Fall', 27.6, 346.0)\n",
      "('Mumbai', 'India', 'Winter', 24.8, 5.9)\n",
      "('Mumbai', 'India', 'Spring', 28.4, 16.2)\n",
      "('Mumbai', 'India', 'Summer', 27.9, 1549.4)\n",
      "('Mumbai', 'India', 'Fall', 27.6, 346.0)\n",
      "(d).Fall Records:\n",
      "('Mumbai', 'India', 'Fall', 27.6, 346.0)\n",
      "('London', 'United Kingdom', 'Fall', 10.4, 218.5)\n",
      "('Cairo', 'Egypt', 'Fall', 22.2, 4.5)\n",
      "('Mumbai', 'India', 'Fall', 27.6, 346.0)\n",
      "('London', 'United Kingdom', 'Fall', 10.4, 218.5)\n",
      "('Cairo', 'Egypt', 'Fall', 22.2, 4.5)\n",
      "(e).Records with average rainfall between 200 and 400 mm:\n",
      "('London', 'United Kingdom', 'Fall')\n",
      "('London', 'United Kingdom', 'Winter')\n",
      "('Mumbai', 'India', 'Fall')\n",
      "(f).Records with average Fall temperature above 20 degrees:\n",
      "('Cairo', 'Egypt')\n",
      "('Mumbai', 'India')\n",
      "(g).Total annual rainfall for Cairo: 55.2\n",
      "(h).Total rainfall for each season:\n",
      "Fall 1138.0\n",
      "Spring 384.59999999999997\n",
      "Summer 3413.0\n",
      "Winter 460.2\n"
     ]
    }
   ],
   "source": [
    "import sqlite3\n",
    "\n",
    "# Connect to the SQLite database\n",
    "conn = sqlite3.connect('my_database.db')\n",
    "\n",
    "# Create a cursor object to execute SQL queries\n",
    "cursor = conn.cursor()\n",
    "\n",
    "# a) All the temperature data.\n",
    "cursor.execute(\"SELECT Temperature FROM climate_data\")\n",
    "temperature_data = cursor.fetchall()\n",
    "print(\"(a).Temperature Data:\")\n",
    "for temperature in temperature_data:\n",
    "    print(temperature[0])\n",
    "\n",
    "# b) All the cities, but without repetition.\n",
    "cursor.execute(\"SELECT DISTINCT City FROM climate_data \")\n",
    "cities = cursor.fetchall()\n",
    "print(\"(b).Cities:\")\n",
    "for city in cities:\n",
    "    print(city[0])\n",
    "\n",
    "# c) All the records for India.\n",
    "cursor.execute(\"SELECT * FROM climate_data WHERE Country = 'India'\")\n",
    "india_records = cursor.fetchall()\n",
    "print(\"(c).Records for India:\")\n",
    "for record in india_records:\n",
    "    print(record)\n",
    "\n",
    "# d) All the Fall records.\n",
    "cursor.execute(\"SELECT * FROM climate_data WHERE Season = 'Fall'\")\n",
    "fall_records = cursor.fetchall()\n",
    "print(\"(d).Fall Records:\")\n",
    "for record in fall_records:\n",
    "    print(record)\n",
    "\n",
    "# e) The city, country, and season for which the average rainfall is between 200 and 400 millimeters.\n",
    "cursor.execute(\"SELECT City, Country, Season FROM climate_data GROUP BY City, Country, Season HAVING AVG(Rainfall) BETWEEN 200 AND 400\")\n",
    "average_rainfall_records = cursor.fetchall()\n",
    "print(\"(e).Records with average rainfall between 200 and 400 mm:\")\n",
    "for record in average_rainfall_records:\n",
    "    print(record)\n",
    "\n",
    "# f) The city and country for which the average Fall temperature is above 20 degrees, in increasing temperature order.\n",
    "cursor.execute(\"SELECT City, Country FROM climate_data WHERE Season = 'Fall' GROUP BY City, Country HAVING AVG(Temperature) > 20 ORDER BY AVG(Temperature) ASC\")\n",
    "average_fall_temp_records = cursor.fetchall()\n",
    "print(\"(f).Records with average Fall temperature above 20 degrees:\")\n",
    "for record in average_fall_temp_records:\n",
    "    print(record)\n",
    "\n",
    "# g) The total annual rainfall for Cairo.\n",
    "cursor.execute(\"SELECT SUM(Rainfall) AS Total_Rainfall FROM climate_data WHERE City = 'Cairo'\")\n",
    "total_rainfall_cairo = cursor.fetchone()\n",
    "print(\"(g).Total annual rainfall for Cairo:\", total_rainfall_cairo[0])\n",
    "\n",
    "# h) The total rainfall for each season.\n",
    "cursor.execute(\"SELECT Season, SUM(Rainfall) AS Total_Rainfall FROM climate_data GROUP BY Season\")\n",
    "total_rainfall_seasons = cursor.fetchall()\n",
    "print(\"(h).Total rainfall for each season:\")\n",
    "for season in total_rainfall_seasons:\n",
    "    print(season[0], season[1])\n",
    "\n",
    "# Close the cursor and the connection\n",
    "cursor.close()\n",
    "conn.close()"
   ]
  },
  {
   "cell_type": "markdown",
   "id": "7c2c8ae8",
   "metadata": {},
   "source": [
    "# Question 9"
   ]
  },
  {
   "cell_type": "code",
   "execution_count": 17,
   "id": "5e95cf91",
   "metadata": {},
   "outputs": [
    {
     "name": "stdout",
     "output_type": "stream",
     "text": [
      "['THE', 'QUICK', 'BROWN', 'FOX', 'JUMPS', 'OVER', 'THE', 'LAZY', 'DOG']\n"
     ]
    }
   ],
   "source": [
    "words = ['The', 'quick', 'brown', 'fox', 'jumps', 'over', 'the', 'lazy', 'dog']\n",
    "words_upper = [word.upper() for word in words]\n",
    "print(words_upper)\n"
   ]
  },
  {
   "cell_type": "code",
   "execution_count": 18,
   "id": "0b0903b9",
   "metadata": {},
   "outputs": [
    {
     "name": "stdout",
     "output_type": "stream",
     "text": [
      "['the', 'quick', 'brown', 'fox', 'jumps', 'over', 'the', 'lazy', 'dog']\n"
     ]
    }
   ],
   "source": [
    "words_lower = [word.lower() for word in words]\n",
    "print(words_lower)"
   ]
  },
  {
   "cell_type": "code",
   "execution_count": 19,
   "id": "7b03ddd1",
   "metadata": {},
   "outputs": [
    {
     "name": "stdout",
     "output_type": "stream",
     "text": [
      "[3, 5, 5, 3, 5, 4, 3, 4, 3]\n"
     ]
    }
   ],
   "source": [
    "word_lengths = [len(word) for word in words]\n",
    "print(word_lengths)"
   ]
  },
  {
   "cell_type": "code",
   "execution_count": 20,
   "id": "168333ee",
   "metadata": {},
   "outputs": [
    {
     "name": "stdout",
     "output_type": "stream",
     "text": [
      "[['THE', 'the', 3], ['QUICK', 'quick', 5], ['BROWN', 'brown', 5], ['FOX', 'fox', 3], ['JUMPS', 'jumps', 5], ['OVER', 'over', 4], ['THE', 'the', 3], ['LAZY', 'lazy', 4], ['DOG', 'dog', 3]]\n"
     ]
    }
   ],
   "source": [
    "word_info = [[word.upper(), word.lower(), len(word)] for word in words]\n",
    "print(word_info)"
   ]
  },
  {
   "cell_type": "code",
   "execution_count": 21,
   "id": "19a5d92d",
   "metadata": {},
   "outputs": [
    {
     "name": "stdout",
     "output_type": "stream",
     "text": [
      "['quick', 'brown', 'jumps', 'over', 'lazy']\n"
     ]
    }
   ],
   "source": [
    "words_4_or_more = [word for word in words if len(word) >= 4]\n",
    "print(words_4_or_more )"
   ]
  }
 ],
 "metadata": {
  "kernelspec": {
   "display_name": "Python 3 (ipykernel)",
   "language": "python",
   "name": "python3"
  },
  "language_info": {
   "codemirror_mode": {
    "name": "ipython",
    "version": 3
   },
   "file_extension": ".py",
   "mimetype": "text/x-python",
   "name": "python",
   "nbconvert_exporter": "python",
   "pygments_lexer": "ipython3",
   "version": "3.10.9"
  }
 },
 "nbformat": 4,
 "nbformat_minor": 5
}
