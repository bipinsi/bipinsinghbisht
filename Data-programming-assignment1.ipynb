{
 "cells": [
  {
   "cell_type": "markdown",
   "id": "497c52db",
   "metadata": {},
   "source": [
    "## Question 1: Find the Data Type"
   ]
  },
  {
   "cell_type": "code",
   "execution_count": 1,
   "id": "bc134404",
   "metadata": {},
   "outputs": [
    {
     "name": "stdout",
     "output_type": "stream",
     "text": [
      "<class 'int'>\n",
      "<class 'float'>\n",
      "<class 'bool'>\n",
      "<class 'str'>\n",
      "<class 'int'>\n",
      "<class 'str'>\n",
      "<class 'str'>\n",
      "<class 'float'>\n",
      "<class 'int'>\n",
      "<class 'set'>\n",
      "<class 'bool'>\n",
      "<class 'float'>\n"
     ]
    }
   ],
   "source": [
    "print(type(5))\n",
    "print(type(5.0))\n",
    "print(type(5 > 1))\n",
    "print(type('5'))\n",
    "print(type(5 * 2))\n",
    "print(type('5' * 2))\n",
    "print(type('5' + '2'))\n",
    "print(type(5 / 2))\n",
    "print(type(5 % 2))\n",
    "print(type({5, 2, 1}))\n",
    "print(type(5 == 3))\n",
    "print(type(3.14))"
   ]
  },
  {
   "cell_type": "markdown",
   "id": "a7cff67f",
   "metadata": {},
   "source": [
    "## Question 2 "
   ]
  },
  {
   "cell_type": "code",
   "execution_count": 1,
   "id": "d3577bb6",
   "metadata": {},
   "outputs": [
    {
     "name": "stdout",
     "output_type": "stream",
     "text": [
      "34\n",
      "\n",
      "true\n",
      "\n",
      "Supercalifragilisticexpialidocious and Bababadalgharaghtakamminarronnkonn are of the same length\n",
      "\n",
      "Bartok comes first in dictionry\n",
      "Buxtehude Comes last in dictionary\n",
      "\n"
     ]
    }
   ],
   "source": [
    "x=len('Supercalifragilisticexpialidocious')\n",
    "y=len('Honorificabilitudinitatibus')\n",
    "z=len('Bababadalgharaghtakamminarronnkonn')\n",
    "\n",
    "print(x)\n",
    "\n",
    "A=\"Supercalifragilisticexpialidocious\"\n",
    "if \"ice\" in A:\n",
    "    print('true')\n",
    "else:\n",
    "    print('false')\n",
    "    \n",
    "if x>y:\n",
    "    if x>z:\n",
    "        print('\\nSupercalifragilisticexpialidocious is long word\\n')\n",
    "    else:\n",
    "        print('\\nSupercalifragilisticexpialidocious and Bababadalgharaghtakamminarronnkonn are of the same length\\n')\n",
    "elif y>z:\n",
    "    print('\\nHonorificabilitudinitatibus is long word\\n')\n",
    "else:\n",
    "    print('\\nBababadalgharaghtakamminarronnkonn is long word\\n')\n",
    "    \n",
    "dictionary=['Berlioz', 'Borodin', 'Brian','Bartok', 'Bellini', 'Buxtehude', 'Bernstein']\n",
    "dictionary.sort()\n",
    "print(dictionary[0] +\" comes first in dictionry\")\n",
    "print(dictionary[6] +\" Comes last in dictionary\\n\")\n"
   ]
  },
  {
   "cell_type": "markdown",
   "id": "0c4e1d6e",
   "metadata": {},
   "source": [
    "## Question 3 : Implement function triangleArea(a,b,c) that takes as input the lengths of the 3 sides of a triangle and returns the area of the triangle."
   ]
  },
  {
   "cell_type": "code",
   "execution_count": 2,
   "id": "75798b25",
   "metadata": {},
   "outputs": [
    {
     "name": "stdout",
     "output_type": "stream",
     "text": [
      "Enter first side: 3\n",
      "Enter Second side: 4\n",
      "Enter Third side: 5\n",
      "Area of Triangle is: 6.0\n"
     ]
    }
   ],
   "source": [
    "import math \n",
    "\n",
    "a=float(input('Enter first side: '))  \n",
    "b=float(input('Enter Second side: '))  \n",
    "c=float(input('Enter Third side: '))  \n",
    "\n",
    "s = (a+b+c)/2\n",
    "print(\"Area of Triangle is:\",math.sqrt(s*(s - a)*(s -b)*(s -c)))"
   ]
  },
  {
   "cell_type": "markdown",
   "id": "7b7811f3",
   "metadata": {},
   "source": [
    "## Question 4 : Write a program in python to separate odd and even integers in separate arrays."
   ]
  },
  {
   "cell_type": "code",
   "execution_count": 3,
   "id": "bbc293a2",
   "metadata": {},
   "outputs": [
    {
     "name": "stdout",
     "output_type": "stream",
     "text": [
      "Odd numbers: [31, 53, 71, 95]\n",
      "Even numbers: [10, 32, 44, 62, 84, 110]\n"
     ]
    }
   ],
   "source": [
    "def separate_odd_even(numbers):\n",
    "    odd_numbers = []\n",
    "    even_numbers = []\n",
    "\n",
    "    for num in numbers:\n",
    "        if num % 2 == 0:\n",
    "            even_numbers.append(num)\n",
    "        else:\n",
    "            odd_numbers.append(num)\n",
    "\n",
    "    return odd_numbers, even_numbers\n",
    "\n",
    "numbers = [10, 32, 31, 44, 53, 62, 71, 84, 95, 110]\n",
    "odd, even = separate_odd_even(numbers)\n",
    "print(\"Odd numbers:\", odd)\n",
    "print(\"Even numbers:\", even)"
   ]
  },
  {
   "cell_type": "markdown",
   "id": "fbce9554",
   "metadata": {},
   "source": [
    "## Question 5: Write a function inside(x,y,x1,y1,x2,y2) that returns True or False depending on whether the point (x,y) lies in the rectangle with lower left corner (x1,y1) and upper right corner (x2,y2)."
   ]
  },
  {
   "cell_type": "code",
   "execution_count": 4,
   "id": "1f9fa0d9",
   "metadata": {},
   "outputs": [
    {
     "name": "stdout",
     "output_type": "stream",
     "text": [
      "True\n",
      "False\n",
      "False\n",
      "given points are not making rectangle\n"
     ]
    }
   ],
   "source": [
    "def inside(a, b, a1, b1, a2, b2):\n",
    "    if (a >= a1 and a <= a2 and b >= b1 and b <= b2):\n",
    "        print(\"True\")\n",
    "    else:\n",
    "        print(\"False\") \n",
    "inside(1,1,0,0,2,3)\n",
    "inside(-1,-1,0,0,2,3)\n",
    "\n",
    "if ((inside(1,1,0.3,0.5,1.1,0.7,)) and (inside(1,1,0.5,0.2,1.1,2))):\n",
    "    print(\"given points are making rectangle\")\n",
    "else:\n",
    "    print(\"given points are not making rectangle\")"
   ]
  },
  {
   "cell_type": "markdown",
   "id": "fe6e1af5",
   "metadata": {},
   "source": [
    "## Question 6 : Write a function pig() that takes a word (i.e., a string) as input and returns its pigLatin form."
   ]
  },
  {
   "cell_type": "code",
   "execution_count": 1,
   "id": "5e12ecb0",
   "metadata": {},
   "outputs": [
    {
     "name": "stdout",
     "output_type": "stream",
     "text": [
      "Enter a word which start comsonant:apple\n",
      "Enter a word which start Vowel:elephant\n",
      "appleway\n",
      "elephantway\n"
     ]
    }
   ],
   "source": [
    "def pig(word):\n",
    "    \n",
    "    if word[0] in 'aeiou': \n",
    "        print(word+'way')\n",
    "        \n",
    "    else: \n",
    "        print(word[1:]+word[0]+'ay') \n",
    "            \n",
    "user_input1=input(\"Enter a word which start comsonant:\")\n",
    "user_input2=input(\"Enter a word which start Vowel:\")\n",
    "\n",
    "pig(user_input1) \n",
    "pig(user_input2) \n",
    "        "
   ]
  },
  {
   "cell_type": "markdown",
   "id": "a93a0e30",
   "metadata": {},
   "source": [
    "## Question 7: Write a function bldcount() that reads the file with name name and reports (i.e., prints) how many patients there are in each bloodtype."
   ]
  },
  {
   "cell_type": "code",
   "execution_count": 1,
   "id": "e945bf03",
   "metadata": {
    "scrolled": true
   },
   "outputs": [
    {
     "name": "stdout",
     "output_type": "stream",
     "text": [
      "AB AB B O A A AB O AB A O O A A A O O O AB O A A A A A AB AB A AB O AB O A O O O AB O AB AB AB A A O \n",
      "\n",
      "there are 13 patients of blood type AB\n",
      "there are 15 patients of blood type A\n",
      "there are 1 patients of blood type B\n",
      "there are 15 patients of blood type O\n",
      "there are 0 patients of blood type OO\n"
     ]
    }
   ],
   "source": [
    "a=open(\"bloodtype.txt\")\n",
    "data=a.read()\n",
    "print(data)\n",
    "\n",
    "bloodlist=data.split()\n",
    "\n",
    "AB=0\n",
    "B=0\n",
    "A=0\n",
    "O=0\n",
    "OO=0\n",
    "\n",
    "for i in range(len(bloodlist)):\n",
    "    if(bloodlist[i] == 'AB'):\n",
    "        AB= AB+1\n",
    "    elif(bloodlist[i] == 'B'):\n",
    "        B= B+1\n",
    "    elif(bloodlist[i]=='A'):\n",
    "        A= A+1\n",
    "    elif(bloodlist[i]=='O'):\n",
    "        O= O+1\n",
    "    elif(bloodlist[i]=='OO'):\n",
    "        OO=OO+1\n",
    "        \n",
    "print(\"there are {} patients of blood type AB\".format(AB))\n",
    "print(\"there are {} patients of blood type A\".format(A))\n",
    "print(\"there are {} patients of blood type B\".format(B))\n",
    "print(\"there are {} patients of blood type O\".format(O))\n",
    "print(\"there are {} patients of blood type OO\".format(OO))\n",
    "\n",
    "a.close()"
   ]
  },
  {
   "cell_type": "markdown",
   "id": "96da1e81",
   "metadata": {},
   "source": [
    "## Question 8 : Currency Converter"
   ]
  },
  {
   "cell_type": "code",
   "execution_count": 2,
   "id": "5c4e17df",
   "metadata": {},
   "outputs": [
    {
     "name": "stdout",
     "output_type": "stream",
     "text": [
      "Enter the amount: 130\n",
      "Enter the currency: EUR\n",
      "130.00 EUR is equal to 159.86 USD\n"
     ]
    }
   ],
   "source": [
    "def currency_converter(amount, currency):\n",
    "  conversion_rates = {'AUD': 1.0345157,'CHF':1.0237414,'CNY':0.1550176,'DKK':0.1651442,\n",
    "               'EUR':1.2296544,'GBP':1.5550989,'HKD':0.1270207, 'INR':0.0177643,\n",
    "               'JPY': 0.01241401,'MXN': 0.0751848,'MYR': 0.3145411,'NOK':0.1677063,\n",
    "               'NZD':0.8003591,'PHP':0.0233234,'SEK':0.148269,'SGD':0.788871,'THB':0.0313789}   #Dictionary of currency rates.\n",
    "  \n",
    "  conversion_rate = conversion_rates.get(currency, 0)\n",
    "  if conversion_rate == 0:\n",
    "    return None\n",
    "  \n",
    "  return amount * conversion_rate\n",
    "\n",
    "amount = float(input(\"Enter the amount: \"))\n",
    "currency = input(\"Enter the currency: \")\n",
    "\n",
    "usd = currency_converter(amount, currency)\n",
    "if usd is None:\n",
    "  print(\"Invalid currency\")\n",
    "else:\n",
    "  print(\"{0:.2f}\".format(amount), currency, \"is equal to\", \"{0:.2f}\".format(usd), \"USD\")\n"
   ]
  },
  {
   "cell_type": "markdown",
   "id": "1b59103d",
   "metadata": {},
   "source": [
    "## Question 9: Each of the following will cause an exception (an error). Identify what type of exception each will cause."
   ]
  },
  {
   "cell_type": "markdown",
   "id": "ca9536cd",
   "metadata": {},
   "source": [
    "## (1)Trying to add incompatible variables, as inadding 6 + ‘a’"
   ]
  },
  {
   "cell_type": "code",
   "execution_count": null,
   "id": "a534fdf8",
   "metadata": {},
   "outputs": [],
   "source": [
    "Error: unsupported operand type(s) for +: 'int' and 'str'\n",
    "\n",
    "6 is integer while A is charateer, so 6 cannot add the valuye of A."
   ]
  },
  {
   "cell_type": "markdown",
   "id": "090f4d3e",
   "metadata": {},
   "source": [
    "## (2)Referring to the 12th item of a list that has only 10 items"
   ]
  },
  {
   "cell_type": "code",
   "execution_count": null,
   "id": "57476be2",
   "metadata": {},
   "outputs": [],
   "source": [
    "Error: list index out of range\n",
    "\n",
    "As list consist only 10 items, so it cannot access 12th item of the list."
   ]
  },
  {
   "cell_type": "markdown",
   "id": "d32dbacd",
   "metadata": {},
   "source": [
    "## (3) Using a value that is out of range for a function’sinput, such as calling math.sqrt(-1.0) "
   ]
  },
  {
   "cell_type": "code",
   "execution_count": null,
   "id": "5d47e5a6",
   "metadata": {},
   "outputs": [],
   "source": [
    "Error: It can lead to an error or an undefined result "
   ]
  },
  {
   "cell_type": "markdown",
   "id": "1fac64da",
   "metadata": {},
   "source": [
    "## (4) Using an undeclared variable, such as print(x)when x has not been defined"
   ]
  },
  {
   "cell_type": "code",
   "execution_count": null,
   "id": "75a80c92",
   "metadata": {},
   "outputs": [],
   "source": [
    "The error message would indicate that the variable `x` has not been defined or is not in scope. "
   ]
  },
  {
   "cell_type": "markdown",
   "id": "ab67cc10",
   "metadata": {},
   "source": [
    "## (5) Trying to open a file that does not exist, such asmistyping the file name or looking in the wrong directory."
   ]
  },
  {
   "cell_type": "code",
   "execution_count": null,
   "id": "a14845a2",
   "metadata": {},
   "outputs": [],
   "source": [
    "Error: No such file or directory: 'python.txt'"
   ]
  },
  {
   "cell_type": "markdown",
   "id": "ea35bd50",
   "metadata": {},
   "source": [
    "Question 10 : Write a function called frequencies() that takes a string as its only parameter, and returns a list of integers, showing the number of times each character appears in the text. Your function may ignore any characters that are not in letters.\n"
   ]
  },
  {
   "cell_type": "markdown",
   "id": "cd9d6a90",
   "metadata": {},
   "source": [
    "## Question 10"
   ]
  },
  {
   "cell_type": "code",
   "execution_count": 8,
   "id": "54d8bf82",
   "metadata": {},
   "outputs": [
    {
     "name": "stdout",
     "output_type": "stream",
     "text": [
      "enter the string here: python\n",
      "dict_values([0, 0, 0, 0, 0, 0, 0, 1, 0, 0, 0, 0, 0, 1, 1, 1, 0, 0, 0, 1, 0, 0, 0, 0, 1, 0])\n"
     ]
    }
   ],
   "source": [
    " def frequencies():\n",
    "    letters = 'abcdefghijklmnopqrstuvwxyz'\n",
    "    word = input(\"enter the string here: \")\n",
    "    word = word.lower()\n",
    "    alphabets = { \"a\":0,\"b\":0,\"c\":0,\"d\":0,\"e\":0,\"f\":0,\"g\":0,\"h\":0,\"i\":0,\"j\":0,\"k\":0,\"l\":0,\"m\":0,\"n\":0,\"o\":0,\"p\":0,\"q\":0,\"r\":0,\"s\":0,\"t\":0,\"u\":0,\"v\":0,\"w\":0,\"x\":0,\"y\":0,\"z\":0}\n",
    "    for k in range(len(word)):\n",
    "        \n",
    "        if(word[k] in letters):\n",
    "            alphabets[word[k]] += 1\n",
    "        else:\n",
    "            continue\n",
    "    print(alphabets.values())\n",
    "    \n",
    "frequencies()"
   ]
  }
 ],
 "metadata": {
  "kernelspec": {
   "display_name": "Python 3 (ipykernel)",
   "language": "python",
   "name": "python3"
  },
  "language_info": {
   "codemirror_mode": {
    "name": "ipython",
    "version": 3
   },
   "file_extension": ".py",
   "mimetype": "text/x-python",
   "name": "python",
   "nbconvert_exporter": "python",
   "pygments_lexer": "ipython3",
   "version": "3.10.9"
  }
 },
 "nbformat": 4,
 "nbformat_minor": 5
}
